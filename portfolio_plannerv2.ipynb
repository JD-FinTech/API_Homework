{
 "cells": [
  {
   "cell_type": "code",
   "execution_count": 22,
   "metadata": {},
   "outputs": [],
   "source": [
    "import requests\n",
    "import os \n",
    "import numpy as np\n",
    "import pandas as pd\n",
    "from datetime import datetime, timedelta\n",
    "import matplotlib.pyplot as plt\n",
    "%matplotlib inline"
   ]
  },
  {
   "cell_type": "code",
   "execution_count": 23,
   "metadata": {},
   "outputs": [],
   "source": [
    "np.random.seed(42)"
   ]
  },
  {
   "cell_type": "markdown",
   "metadata": {},
   "source": [
    "# Portfolio Planner\n",
    "\n",
    "In this activity, you will use the iedfinance api to grab historical data for a 60/40 portfolio using `SPY` to represent the stock portion and `AGG` to represent the bonds."
   ]
  },
  {
   "cell_type": "code",
   "execution_count": 24,
   "metadata": {},
   "outputs": [],
   "source": [
    "from iexfinance.stocks import get_historical_data\n",
    "import iexfinance as iex\n",
    "from iexfinance.refdata import get_symbols"
   ]
  },
  {
   "cell_type": "markdown",
   "metadata": {},
   "source": [
    "# Data Collection\n",
    "\n",
    "In this step, you will need to use the IEX api to fetch closing prices for the `SPY` and `AGG` tickers. Save the results as a pandas DataFrame"
   ]
  },
  {
   "cell_type": "code",
   "execution_count": 25,
   "metadata": {},
   "outputs": [
    {
     "data": {
      "text/html": [
       "<div>\n",
       "<style scoped>\n",
       "    .dataframe tbody tr th:only-of-type {\n",
       "        vertical-align: middle;\n",
       "    }\n",
       "\n",
       "    .dataframe tbody tr th {\n",
       "        vertical-align: top;\n",
       "    }\n",
       "\n",
       "    .dataframe thead th {\n",
       "        text-align: right;\n",
       "    }\n",
       "</style>\n",
       "<table border=\"1\" class=\"dataframe\">\n",
       "  <thead>\n",
       "    <tr style=\"text-align: right;\">\n",
       "      <th></th>\n",
       "      <th>symbol</th>\n",
       "      <th>exchange</th>\n",
       "      <th>name</th>\n",
       "      <th>date</th>\n",
       "      <th>type</th>\n",
       "      <th>iexId</th>\n",
       "      <th>region</th>\n",
       "      <th>currency</th>\n",
       "      <th>isEnabled</th>\n",
       "    </tr>\n",
       "  </thead>\n",
       "  <tbody>\n",
       "    <tr>\n",
       "      <td>0</td>\n",
       "      <td>A</td>\n",
       "      <td>NYS</td>\n",
       "      <td>Agilent Technologies Inc.</td>\n",
       "      <td>2019-10-12</td>\n",
       "      <td>cs</td>\n",
       "      <td>IEX_46574843354B2D52</td>\n",
       "      <td>US</td>\n",
       "      <td>USD</td>\n",
       "      <td>True</td>\n",
       "    </tr>\n",
       "    <tr>\n",
       "      <td>1</td>\n",
       "      <td>AA</td>\n",
       "      <td>NYS</td>\n",
       "      <td>Alcoa Corp.</td>\n",
       "      <td>2019-10-12</td>\n",
       "      <td>cs</td>\n",
       "      <td>IEX_4238333734532D52</td>\n",
       "      <td>US</td>\n",
       "      <td>USD</td>\n",
       "      <td>True</td>\n",
       "    </tr>\n",
       "    <tr>\n",
       "      <td>2</td>\n",
       "      <td>AAAU</td>\n",
       "      <td>PSE</td>\n",
       "      <td>Perth Mint Physical Gold ETF</td>\n",
       "      <td>2019-10-12</td>\n",
       "      <td>et</td>\n",
       "      <td>IEX_474B433136332D52</td>\n",
       "      <td>US</td>\n",
       "      <td>USD</td>\n",
       "      <td>True</td>\n",
       "    </tr>\n",
       "    <tr>\n",
       "      <td>3</td>\n",
       "      <td>AAC</td>\n",
       "      <td>NYS</td>\n",
       "      <td>AAC Holdings Inc.</td>\n",
       "      <td>2019-10-12</td>\n",
       "      <td>cs</td>\n",
       "      <td>IEX_4843364642592D52</td>\n",
       "      <td>US</td>\n",
       "      <td>USD</td>\n",
       "      <td>True</td>\n",
       "    </tr>\n",
       "    <tr>\n",
       "      <td>4</td>\n",
       "      <td>AADR</td>\n",
       "      <td>PSE</td>\n",
       "      <td>AdvisorShares Dorsey Wright ADR ETF</td>\n",
       "      <td>2019-10-12</td>\n",
       "      <td>et</td>\n",
       "      <td>IEX_5253355435362D52</td>\n",
       "      <td>US</td>\n",
       "      <td>USD</td>\n",
       "      <td>True</td>\n",
       "    </tr>\n",
       "  </tbody>\n",
       "</table>\n",
       "</div>"
      ],
      "text/plain": [
       "  symbol exchange                                 name        date type  \\\n",
       "0      A      NYS            Agilent Technologies Inc.  2019-10-12   cs   \n",
       "1     AA      NYS                          Alcoa Corp.  2019-10-12   cs   \n",
       "2   AAAU      PSE         Perth Mint Physical Gold ETF  2019-10-12   et   \n",
       "3    AAC      NYS                    AAC Holdings Inc.  2019-10-12   cs   \n",
       "4   AADR      PSE  AdvisorShares Dorsey Wright ADR ETF  2019-10-12   et   \n",
       "\n",
       "                  iexId region currency  isEnabled  \n",
       "0  IEX_46574843354B2D52     US      USD       True  \n",
       "1  IEX_4238333734532D52     US      USD       True  \n",
       "2  IEX_474B433136332D52     US      USD       True  \n",
       "3  IEX_4843364642592D52     US      USD       True  \n",
       "4  IEX_5253355435362D52     US      USD       True  "
      ]
     },
     "execution_count": 25,
     "metadata": {},
     "output_type": "execute_result"
    }
   ],
   "source": [
    "# YOUR CODE HERE\n",
    "\n",
    "list_of_tickers = [\"SPY\", \"AGG\"]\n",
    "end_date = datetime.now()\n",
    "start_date = end_date + timedelta(-365)\n",
    "iex_token = os.getenv(\"IEX_TOKEN\")\n",
    "tickers=pd.DataFrame(get_symbols(output_format='pandas', token=iex_token))\n",
    "tickers.head()"
   ]
  },
  {
   "cell_type": "code",
   "execution_count": 26,
   "metadata": {},
   "outputs": [],
   "source": [
    "Ticker1 = \"SPY\"\n",
    "Ticker2 = \"AGG\""
   ]
  },
  {
   "cell_type": "code",
   "execution_count": 27,
   "metadata": {},
   "outputs": [
    {
     "data": {
      "text/html": [
       "<div>\n",
       "<style scoped>\n",
       "    .dataframe tbody tr th:only-of-type {\n",
       "        vertical-align: middle;\n",
       "    }\n",
       "\n",
       "    .dataframe tbody tr th {\n",
       "        vertical-align: top;\n",
       "    }\n",
       "\n",
       "    .dataframe thead th {\n",
       "        text-align: right;\n",
       "    }\n",
       "</style>\n",
       "<table border=\"1\" class=\"dataframe\">\n",
       "  <thead>\n",
       "    <tr style=\"text-align: right;\">\n",
       "      <th></th>\n",
       "      <th>SPY</th>\n",
       "      <th>AGG</th>\n",
       "    </tr>\n",
       "    <tr>\n",
       "      <th>date</th>\n",
       "      <th></th>\n",
       "      <th></th>\n",
       "    </tr>\n",
       "  </thead>\n",
       "  <tbody>\n",
       "    <tr>\n",
       "      <td>2018-10-12</td>\n",
       "      <td>275.95</td>\n",
       "      <td>104.75</td>\n",
       "    </tr>\n",
       "    <tr>\n",
       "      <td>2018-10-15</td>\n",
       "      <td>274.40</td>\n",
       "      <td>104.68</td>\n",
       "    </tr>\n",
       "    <tr>\n",
       "      <td>2018-10-16</td>\n",
       "      <td>280.40</td>\n",
       "      <td>104.74</td>\n",
       "    </tr>\n",
       "    <tr>\n",
       "      <td>2018-10-17</td>\n",
       "      <td>280.45</td>\n",
       "      <td>104.53</td>\n",
       "    </tr>\n",
       "    <tr>\n",
       "      <td>2018-10-18</td>\n",
       "      <td>276.40</td>\n",
       "      <td>104.46</td>\n",
       "    </tr>\n",
       "  </tbody>\n",
       "</table>\n",
       "</div>"
      ],
      "text/plain": [
       "               SPY     AGG\n",
       "date                      \n",
       "2018-10-12  275.95  104.75\n",
       "2018-10-15  274.40  104.68\n",
       "2018-10-16  280.40  104.74\n",
       "2018-10-17  280.45  104.53\n",
       "2018-10-18  276.40  104.46"
      ]
     },
     "execution_count": 27,
     "metadata": {},
     "output_type": "execute_result"
    }
   ],
   "source": [
    "df_spy = get_historical_data(Ticker1, start_date, end_date,  output_format='pandas')\n",
    "df_agg = get_historical_data(Ticker2, start_date, end_date,  output_format='pandas')\n",
    "df_spy1 = df_spy.drop(columns=['open','high','low','volume'])\n",
    "df_spy2 = df_spy1.rename(columns={\"close\": \"SPY\"})\n",
    "df_agg1 = df_agg.drop(columns=['open','high','low','volume'])\n",
    "df_agg2 = df_agg1.rename(columns={\"close\": \"AGG\"})\n",
    "combined_df = pd.concat([df_spy2, df_agg2], axis = \"columns\", join = \"inner\")\n",
    "combined_df.head()"
   ]
  },
  {
   "cell_type": "markdown",
   "metadata": {},
   "source": [
    "# Monte Carlo Simulation\n",
    "\n",
    "In this step, you will run Monte Carlo Simulations for your portfolio to model portfolio performance at different retirement ages. \n",
    "\n",
    "Complete the following steps:\n",
    "1. Calculate the daily returns for the SPY and AGG closing prices.\n",
    "2. Calculate volatility for both the SPY and AGG closing prices.\n",
    "3. Find the last day's closing price for both stocks and save those as variables.\n",
    "4. Run a Monte Carlo Simulation of at least 100 iterations and generate at least 20 years of closing prices\n",
    "\n",
    "### HINTS:\n",
    "There are 252 trading days per year, so the number of records to generate for each Monte Carlo run will be 252 days * 20 years"
   ]
  },
  {
   "cell_type": "code",
   "execution_count": 28,
   "metadata": {},
   "outputs": [
    {
     "data": {
      "text/html": [
       "<div>\n",
       "<style scoped>\n",
       "    .dataframe tbody tr th:only-of-type {\n",
       "        vertical-align: middle;\n",
       "    }\n",
       "\n",
       "    .dataframe tbody tr th {\n",
       "        vertical-align: top;\n",
       "    }\n",
       "\n",
       "    .dataframe thead th {\n",
       "        text-align: right;\n",
       "    }\n",
       "</style>\n",
       "<table border=\"1\" class=\"dataframe\">\n",
       "  <thead>\n",
       "    <tr style=\"text-align: right;\">\n",
       "      <th></th>\n",
       "      <th>SPY</th>\n",
       "      <th>AGG</th>\n",
       "    </tr>\n",
       "    <tr>\n",
       "      <th>date</th>\n",
       "      <th></th>\n",
       "      <th></th>\n",
       "    </tr>\n",
       "  </thead>\n",
       "  <tbody>\n",
       "    <tr>\n",
       "      <td>2018-10-12</td>\n",
       "      <td>NaN</td>\n",
       "      <td>NaN</td>\n",
       "    </tr>\n",
       "    <tr>\n",
       "      <td>2018-10-15</td>\n",
       "      <td>-0.005617</td>\n",
       "      <td>-0.000668</td>\n",
       "    </tr>\n",
       "    <tr>\n",
       "      <td>2018-10-16</td>\n",
       "      <td>0.021866</td>\n",
       "      <td>0.000573</td>\n",
       "    </tr>\n",
       "    <tr>\n",
       "      <td>2018-10-17</td>\n",
       "      <td>0.000178</td>\n",
       "      <td>-0.002005</td>\n",
       "    </tr>\n",
       "    <tr>\n",
       "      <td>2018-10-18</td>\n",
       "      <td>-0.014441</td>\n",
       "      <td>-0.000670</td>\n",
       "    </tr>\n",
       "  </tbody>\n",
       "</table>\n",
       "</div>"
      ],
      "text/plain": [
       "                 SPY       AGG\n",
       "date                          \n",
       "2018-10-12       NaN       NaN\n",
       "2018-10-15 -0.005617 -0.000668\n",
       "2018-10-16  0.021866  0.000573\n",
       "2018-10-17  0.000178 -0.002005\n",
       "2018-10-18 -0.014441 -0.000670"
      ]
     },
     "execution_count": 28,
     "metadata": {},
     "output_type": "execute_result"
    }
   ],
   "source": [
    "# Calculate the daily roi for the stocks\n",
    "# YOUR CODE HERE\n",
    "\n",
    "daily_returns = combined_df.pct_change()\n",
    "daily_returns.head()"
   ]
  },
  {
   "cell_type": "code",
   "execution_count": 29,
   "metadata": {},
   "outputs": [
    {
     "data": {
      "text/plain": [
       "SPY    0.010505\n",
       "AGG    0.001960\n",
       "dtype: float64"
      ]
     },
     "execution_count": 29,
     "metadata": {},
     "output_type": "execute_result"
    }
   ],
   "source": [
    "# Calculate volatility\n",
    "# YOUR CODE HERE\n",
    "\n",
    "std_dev_daily_return = daily_returns.std()\n",
    "std_dev_daily_return"
   ]
  },
  {
   "cell_type": "code",
   "execution_count": 35,
   "metadata": {},
   "outputs": [
    {
     "name": "stdout",
     "output_type": "stream",
     "text": [
      "112.73\n",
      "296.28\n"
     ]
    }
   ],
   "source": [
    "# Save the last day's closing price\n",
    "# YOUR CODE HERE\n",
    "\n",
    "num_trading_days = 252\n",
    "SPY_last_price = combined_df['SPY'][-1]\n",
    "AGG_last_price = combined_df['AGG'][-1]\n",
    "print(AGG_last_price)\n",
    "print(SPY_last_price)"
   ]
  },
  {
   "cell_type": "code",
   "execution_count": 31,
   "metadata": {},
   "outputs": [],
   "source": [
    "avg_daily_return = daily_returns.mean()"
   ]
  },
  {
   "cell_type": "code",
   "execution_count": 32,
   "metadata": {},
   "outputs": [],
   "source": [
    "# Setup the Monte Carlo Parameters\n",
    "number_simulations = 100\n",
    "number_records = 252 * 30\n",
    "monte_carlo = pd.DataFrame()\n",
    "simulated_price_df = pd.DataFrame()"
   ]
  },
  {
   "cell_type": "code",
   "execution_count": 33,
   "metadata": {},
   "outputs": [
    {
     "data": {
      "text/html": [
       "<div>\n",
       "<style scoped>\n",
       "    .dataframe tbody tr th:only-of-type {\n",
       "        vertical-align: middle;\n",
       "    }\n",
       "\n",
       "    .dataframe tbody tr th {\n",
       "        vertical-align: top;\n",
       "    }\n",
       "\n",
       "    .dataframe thead th {\n",
       "        text-align: right;\n",
       "    }\n",
       "</style>\n",
       "<table border=\"1\" class=\"dataframe\">\n",
       "  <thead>\n",
       "    <tr style=\"text-align: right;\">\n",
       "      <th></th>\n",
       "      <th>0</th>\n",
       "      <th>1</th>\n",
       "      <th>2</th>\n",
       "      <th>3</th>\n",
       "      <th>4</th>\n",
       "      <th>5</th>\n",
       "      <th>6</th>\n",
       "      <th>7</th>\n",
       "      <th>8</th>\n",
       "      <th>9</th>\n",
       "      <th>...</th>\n",
       "      <th>90</th>\n",
       "      <th>91</th>\n",
       "      <th>92</th>\n",
       "      <th>93</th>\n",
       "      <th>94</th>\n",
       "      <th>95</th>\n",
       "      <th>96</th>\n",
       "      <th>97</th>\n",
       "      <th>98</th>\n",
       "      <th>99</th>\n",
       "    </tr>\n",
       "  </thead>\n",
       "  <tbody>\n",
       "    <tr>\n",
       "      <td>0</td>\n",
       "      <td>1.000000</td>\n",
       "      <td>1.000000</td>\n",
       "      <td>1.000000</td>\n",
       "      <td>1.000000</td>\n",
       "      <td>1.000000</td>\n",
       "      <td>1.000000</td>\n",
       "      <td>1.000000</td>\n",
       "      <td>1.000000</td>\n",
       "      <td>1.000000</td>\n",
       "      <td>1.000000</td>\n",
       "      <td>...</td>\n",
       "      <td>1.000000</td>\n",
       "      <td>1.000000</td>\n",
       "      <td>1.000000</td>\n",
       "      <td>1.000000</td>\n",
       "      <td>1.000000</td>\n",
       "      <td>1.000000</td>\n",
       "      <td>1.000000</td>\n",
       "      <td>1.000000</td>\n",
       "      <td>1.000000</td>\n",
       "      <td>1.000000</td>\n",
       "    </tr>\n",
       "    <tr>\n",
       "      <td>1</td>\n",
       "      <td>1.003344</td>\n",
       "      <td>0.993944</td>\n",
       "      <td>0.990805</td>\n",
       "      <td>0.998791</td>\n",
       "      <td>1.006229</td>\n",
       "      <td>1.009245</td>\n",
       "      <td>1.012372</td>\n",
       "      <td>0.993752</td>\n",
       "      <td>1.002005</td>\n",
       "      <td>0.998875</td>\n",
       "      <td>...</td>\n",
       "      <td>1.000789</td>\n",
       "      <td>1.001931</td>\n",
       "      <td>0.993476</td>\n",
       "      <td>1.001829</td>\n",
       "      <td>0.990547</td>\n",
       "      <td>0.996558</td>\n",
       "      <td>1.010844</td>\n",
       "      <td>1.011548</td>\n",
       "      <td>1.009192</td>\n",
       "      <td>1.012475</td>\n",
       "    </tr>\n",
       "    <tr>\n",
       "      <td>2</td>\n",
       "      <td>1.008961</td>\n",
       "      <td>0.998467</td>\n",
       "      <td>0.989163</td>\n",
       "      <td>0.997765</td>\n",
       "      <td>1.010416</td>\n",
       "      <td>0.996770</td>\n",
       "      <td>1.004825</td>\n",
       "      <td>0.979735</td>\n",
       "      <td>1.000633</td>\n",
       "      <td>1.009962</td>\n",
       "      <td>...</td>\n",
       "      <td>0.995769</td>\n",
       "      <td>1.006193</td>\n",
       "      <td>0.984616</td>\n",
       "      <td>0.995859</td>\n",
       "      <td>0.989168</td>\n",
       "      <td>0.990868</td>\n",
       "      <td>1.002396</td>\n",
       "      <td>1.012794</td>\n",
       "      <td>1.007246</td>\n",
       "      <td>1.017061</td>\n",
       "    </tr>\n",
       "    <tr>\n",
       "      <td>3</td>\n",
       "      <td>1.007612</td>\n",
       "      <td>0.998231</td>\n",
       "      <td>0.993510</td>\n",
       "      <td>0.989588</td>\n",
       "      <td>1.009340</td>\n",
       "      <td>1.001033</td>\n",
       "      <td>1.009382</td>\n",
       "      <td>0.971881</td>\n",
       "      <td>1.000011</td>\n",
       "      <td>1.019989</td>\n",
       "      <td>...</td>\n",
       "      <td>1.002723</td>\n",
       "      <td>1.002670</td>\n",
       "      <td>0.975654</td>\n",
       "      <td>1.001970</td>\n",
       "      <td>0.985153</td>\n",
       "      <td>0.991792</td>\n",
       "      <td>0.995697</td>\n",
       "      <td>1.013671</td>\n",
       "      <td>1.008829</td>\n",
       "      <td>1.026407</td>\n",
       "    </tr>\n",
       "    <tr>\n",
       "      <td>4</td>\n",
       "      <td>1.018572</td>\n",
       "      <td>1.001602</td>\n",
       "      <td>0.988079</td>\n",
       "      <td>0.996681</td>\n",
       "      <td>1.010585</td>\n",
       "      <td>0.993777</td>\n",
       "      <td>1.007027</td>\n",
       "      <td>0.968321</td>\n",
       "      <td>1.010096</td>\n",
       "      <td>1.005692</td>\n",
       "      <td>...</td>\n",
       "      <td>1.009089</td>\n",
       "      <td>1.000186</td>\n",
       "      <td>0.974354</td>\n",
       "      <td>1.006837</td>\n",
       "      <td>0.976522</td>\n",
       "      <td>0.994513</td>\n",
       "      <td>0.984599</td>\n",
       "      <td>1.015022</td>\n",
       "      <td>1.013111</td>\n",
       "      <td>1.020481</td>\n",
       "    </tr>\n",
       "  </tbody>\n",
       "</table>\n",
       "<p>5 rows × 100 columns</p>\n",
       "</div>"
      ],
      "text/plain": [
       "         0         1         2         3         4         5         6   \\\n",
       "0  1.000000  1.000000  1.000000  1.000000  1.000000  1.000000  1.000000   \n",
       "1  1.003344  0.993944  0.990805  0.998791  1.006229  1.009245  1.012372   \n",
       "2  1.008961  0.998467  0.989163  0.997765  1.010416  0.996770  1.004825   \n",
       "3  1.007612  0.998231  0.993510  0.989588  1.009340  1.001033  1.009382   \n",
       "4  1.018572  1.001602  0.988079  0.996681  1.010585  0.993777  1.007027   \n",
       "\n",
       "         7         8         9   ...        90        91        92        93  \\\n",
       "0  1.000000  1.000000  1.000000  ...  1.000000  1.000000  1.000000  1.000000   \n",
       "1  0.993752  1.002005  0.998875  ...  1.000789  1.001931  0.993476  1.001829   \n",
       "2  0.979735  1.000633  1.009962  ...  0.995769  1.006193  0.984616  0.995859   \n",
       "3  0.971881  1.000011  1.019989  ...  1.002723  1.002670  0.975654  1.001970   \n",
       "4  0.968321  1.010096  1.005692  ...  1.009089  1.000186  0.974354  1.006837   \n",
       "\n",
       "         94        95        96        97        98        99  \n",
       "0  1.000000  1.000000  1.000000  1.000000  1.000000  1.000000  \n",
       "1  0.990547  0.996558  1.010844  1.011548  1.009192  1.012475  \n",
       "2  0.989168  0.990868  1.002396  1.012794  1.007246  1.017061  \n",
       "3  0.985153  0.991792  0.995697  1.013671  1.008829  1.026407  \n",
       "4  0.976522  0.994513  0.984599  1.015022  1.013111  1.020481  \n",
       "\n",
       "[5 rows x 100 columns]"
      ]
     },
     "execution_count": 33,
     "metadata": {},
     "output_type": "execute_result"
    }
   ],
   "source": [
    "# Run the Monte Carlo Simulation\n",
    "\n",
    "for x in range(number_simulations):\n",
    "   simulated_SPY_prices = [SPY_last_price]\n",
    "   simulated_AGG_prices = [AGG_last_price]\n",
    "   for i in range(number_records \n",
    "):\n",
    "       simulated_price_SPY = simulated_SPY_prices[-1] * (1 + np.random.normal(avg_daily_return['SPY'], std_dev_daily_return['SPY']))\n",
    "       simulated_price_AGG = simulated_AGG_prices[-1] * (1 + np.random.normal(avg_daily_return['AGG'], std_dev_daily_return['AGG']))\n",
    "       simulated_SPY_prices.append(simulated_price_SPY)\n",
    "       simulated_AGG_prices.append(simulated_price_AGG)\n",
    "   simulated_price_df[\"SPY prices\"] = pd.Series(simulated_SPY_prices)\n",
    "   simulated_price_df[\"AGG prices\"] = pd.Series(simulated_AGG_prices)\n",
    "   combined_simulated_prices = pd.concat([simulated_price_df[\"SPY prices\"], simulated_price_df[\"AGG prices\"]], axis = \"columns\", join = \"inner\")\n",
    "   #Calculate the daily returns of simulated prices\n",
    "   simulated_daily_returns = combined_simulated_prices.pct_change()\n",
    "   # Set the portfolio weights (60% SPY; 40% AGG)\n",
    "   weights = [0.60, 0.40]\n",
    "# Use the dot function with the weights to multiply weights with each column's simulated daily returns\n",
    "   portfolio_daily_returns = simulated_daily_returns.dot(weights)\n",
    "    # Calculate the normalized, cumulative return series\n",
    "   monte_carlo[x] = (1 + portfolio_daily_returns.fillna(0)).cumprod()\n",
    "monte_carlo.head()"
   ]
  },
  {
   "cell_type": "code",
   "execution_count": 34,
   "metadata": {},
   "outputs": [
    {
     "data": {
      "text/plain": [
       "<matplotlib.axes._subplots.AxesSubplot at 0x11f380198>"
      ]
     },
     "execution_count": 34,
     "metadata": {},
     "output_type": "execute_result"
    },
    {
     "data": {
      "image/png": "[encoded data removed]",
      "text/plain": [
       "<Figure size 432x288 with 1 Axes>"
      ]
     },
     "metadata": {
      "needs_background": "light"
     },
     "output_type": "display_data"
    }
   ],
   "source": [
    "# Visualize the Simulation\n",
    "# YOUR CODE HERE\n",
    "\n",
    "plot_simulations = f\"{x+1} Simulations of Cumulative Portfolio Return Trajectories Over the Next 252 Trading Days\"\n",
    "monte_carlo.plot(legend=None, title=plot_simulations)"
   ]
  },
  {
   "cell_type": "code",
   "execution_count": 37,
   "metadata": {},
   "outputs": [
    {
     "data": {
      "text/plain": [
       "95     6.912607\n",
       "96     8.665014\n",
       "97    13.920266\n",
       "98    13.650035\n",
       "99     7.657413\n",
       "Name: 7560, dtype: float64"
      ]
     },
     "execution_count": 37,
     "metadata": {},
     "output_type": "execute_result"
    }
   ],
   "source": [
    "# Select the last row for the cumulative returns (cumulative returns at 30 years)\n",
    "# YOUR CODE HERE\n",
    "\n",
    "ending_returns_30 = monte_carlo.iloc[-1, :]\n",
    "ending_returns_30.tail()"
   ]
  },
  {
   "cell_type": "code",
   "execution_count": 38,
   "metadata": {},
   "outputs": [
    {
     "data": {
      "text/plain": [
       "0    11.868786\n",
       "1     9.226155\n",
       "2    14.095462\n",
       "3    15.364661\n",
       "4    13.267579\n",
       "Name: 7560, dtype: float64"
      ]
     },
     "execution_count": 38,
     "metadata": {},
     "output_type": "execute_result"
    }
   ],
   "source": [
    "ending_returns_30.head()"
   ]
  },
  {
   "cell_type": "code",
   "execution_count": 39,
   "metadata": {},
   "outputs": [
    {
     "data": {
      "text/plain": [
       "0    11.723057\n",
       "1     9.269645\n",
       "2    13.429311\n",
       "3    15.177961\n",
       "4    13.710393\n",
       "Name: 7551, dtype: float64"
      ]
     },
     "execution_count": 39,
     "metadata": {},
     "output_type": "execute_result"
    }
   ],
   "source": [
    "# Select the last row for the cumulative returns (cumulative returns at 20 years)\n",
    "# YOUR CODE HERE\n",
    "\n",
    "ending_returns_20 = monte_carlo.iloc[-10, :]\n",
    "ending_returns_20.head()"
   ]
  },
  {
   "cell_type": "code",
   "execution_count": 40,
   "metadata": {},
   "outputs": [
    {
     "data": {
      "text/plain": [
       "95     6.811015\n",
       "96     8.696767\n",
       "97    13.679299\n",
       "98    13.663593\n",
       "99     7.590118\n",
       "Name: 7551, dtype: float64"
      ]
     },
     "execution_count": 40,
     "metadata": {},
     "output_type": "execute_result"
    }
   ],
   "source": [
    "ending_returns_20.tail()"
   ]
  },
  {
   "cell_type": "code",
   "execution_count": 41,
   "metadata": {},
   "outputs": [
    {
     "data": {
      "text/plain": [
       "0    11.723057\n",
       "1     9.269645\n",
       "2    13.429311\n",
       "3    15.177961\n",
       "4    13.710393\n",
       "Name: 7551, dtype: float64"
      ]
     },
     "execution_count": 41,
     "metadata": {},
     "output_type": "execute_result"
    }
   ],
   "source": [
    "ending_returns_20 = monte_carlo.iloc[7551]\n",
    "ending_returns_20.head()"
   ]
  },
  {
   "cell_type": "code",
   "execution_count": 42,
   "metadata": {},
   "outputs": [
    {
     "data": {
      "text/plain": [
       "0.05     3.687840\n",
       "0.95    22.084466\n",
       "Name: 7560, dtype: float64"
      ]
     },
     "execution_count": 42,
     "metadata": {},
     "output_type": "execute_result"
    }
   ],
   "source": [
    "# Display the 90% confidence interval for the ending returns\n",
    "# YOUR CODE HERE\n",
    "\n",
    "confidence_interval = ending_returns_30.quantile(q=[0.05, 0.95])\n",
    "confidence_interval"
   ]
  },
  {
   "cell_type": "code",
   "execution_count": 43,
   "metadata": {},
   "outputs": [
    {
     "data": {
      "text/plain": [
       "<matplotlib.lines.Line2D at 0x11ffe8080>"
      ]
     },
     "execution_count": 43,
     "metadata": {},
     "output_type": "execute_result"
    },
    {
     "data": {
      "image/png": "[encoded data removed]",
      "text/plain": [
       "<Figure size 432x288 with 1 Axes>"
      ]
     },
     "metadata": {
      "needs_background": "light"
     },
     "output_type": "display_data"
    }
   ],
   "source": [
    "# Visualize the distribution of the ending returns\n",
    "# YOUR CODE HERE\n",
    "\n",
    "plt.figure();\n",
    "ending_returns_30.plot(kind='hist', density=True, bins=10)\n",
    "plt.axvline(confidence_interval.iloc[0], color='r')\n",
    "plt.axvline(confidence_interval.iloc[1], color='r')"
   ]
  },
  {
   "cell_type": "markdown",
   "metadata": {},
   "source": [
    "---"
   ]
  },
  {
   "cell_type": "markdown",
   "metadata": {},
   "source": [
    "# Retirement Analysis\n",
    "\n",
    "In this section, you will use the monte carlo model to answer the following retirement planning questions:\n",
    "\n",
    "1. What are the expected cumulative returns at 30 years for the 10th, 50th, and 90th percentiles?\n",
    "2. Given an initial investment of `$20,000`, what is the expected portfolio return in dollars at the 10th, 50th, and 90th percentiles?\n",
    "3. Given the current projected annual income from the Plaid analysis, will a 4% withdraw rate from the retirement portfolio meet or exceed that value at the 10th percentile?\n",
    "4. How would a 50% increase in the initial investment amount affect the 4% retirement withdrawal?"
   ]
  },
  {
   "cell_type": "markdown",
   "metadata": {},
   "source": [
    "### What are the expected cumulative returns at 30 years for the 10th, 50th, and 90th percentiles?"
   ]
  },
  {
   "cell_type": "code",
   "execution_count": 44,
   "metadata": {},
   "outputs": [
    {
     "name": "stdout",
     "output_type": "stream",
     "text": [
      "Expected cumulative returns at 30 years for the 10th percentile 4.366550700513965\n"
     ]
    }
   ],
   "source": [
    "# YOUR CODE HERE\n",
    "\n",
    "cumul_ret_30_10th = ending_returns_30.quantile(q=0.10)\n",
    "cumul_ret_20_10th=ending_returns_20.quantile(q=0.10)\n",
    "print(f\"Expected cumulative returns at 30 years for the 10th percentile {cumul_ret_30_10th}\")"
   ]
  },
  {
   "cell_type": "code",
   "execution_count": 45,
   "metadata": {},
   "outputs": [
    {
     "name": "stdout",
     "output_type": "stream",
     "text": [
      "Expected cumulative returns at 30 years for the 50th percentile 9.274584026444945\n"
     ]
    }
   ],
   "source": [
    "cumul_ret_30_50th=ending_returns_30.quantile(q=0.5)\n",
    "print(f\"Expected cumulative returns at 30 years for the 50th percentile {cumul_ret_30_50th}\")"
   ]
  },
  {
   "cell_type": "code",
   "execution_count": 46,
   "metadata": {},
   "outputs": [
    {
     "name": "stdout",
     "output_type": "stream",
     "text": [
      "Expected cumulative returns at 30 years for the 90th percentile 16.132040819070202\n"
     ]
    }
   ],
   "source": [
    "cumul_ret_30_90th=ending_returns_30.quantile(q=0.9)\n",
    "print(f\"Expected cumulative returns at 30 years for the 90th percentile {cumul_ret_30_90th}\")"
   ]
  },
  {
   "cell_type": "markdown",
   "metadata": {},
   "source": [
    "### Given an initial investment of `$20,000`, what is the expected portfolio return in dollars at the 10th, 50th, and 90th percentiles?"
   ]
  },
  {
   "cell_type": "code",
   "execution_count": 48,
   "metadata": {},
   "outputs": [
    {
     "name": "stdout",
     "output_type": "stream",
     "text": [
      "Expected portfolio return at the 10th, initial investment of $20,000 is =  $107331.01401027931\n"
     ]
    }
   ],
   "source": [
    "initial_investment = 20000\n",
    "expect_ret_10th = initial_investment + (initial_investment * cumul_ret_30_10th)\n",
    "print(f\"Expected portfolio return at the 10th, initial investment of $20,000 is =  ${expect_ret_10th}\")"
   ]
  },
  {
   "cell_type": "code",
   "execution_count": 49,
   "metadata": {},
   "outputs": [
    {
     "name": "stdout",
     "output_type": "stream",
     "text": [
      "Expected portfolio return at the 50th, initial investment of $20,000 is =  $205491.6805288989\n"
     ]
    }
   ],
   "source": [
    "expect_ret_50th = initial_investment + (initial_investment * cumul_ret_30_50th)\n",
    "print(f\"Expected portfolio return at the 50th, initial investment of $20,000 is =  ${expect_ret_50th}\")"
   ]
  },
  {
   "cell_type": "code",
   "execution_count": 50,
   "metadata": {},
   "outputs": [
    {
     "name": "stdout",
     "output_type": "stream",
     "text": [
      "Expected portfolio return at the 90th, initial investment of $20,000 is =  $342640.81638140406\n"
     ]
    }
   ],
   "source": [
    "expect_ret_90th = initial_investment + (initial_investment * cumul_ret_30_90th)\n",
    "print(f\"Expected portfolio return at the 90th, initial investment of $20,000 is =  ${expect_ret_90th}\")"
   ]
  },
  {
   "cell_type": "markdown",
   "metadata": {},
   "source": [
    "### Given the current projected annual income from the Plaid analysis, will a 4% withdraw rate from the retirement portfolio meet or exceed that value at the 10th percentile?\n",
    "\n",
    "Note: This is effectively saying that 90% of the expected returns will be greater than the return at the 10th percentile, so this can help measure the uncertainty about having enough funds at retirement"
   ]
  },
  {
   "cell_type": "code",
   "execution_count": 51,
   "metadata": {},
   "outputs": [
    {
     "name": "stdout",
     "output_type": "stream",
     "text": [
      "With 4% withdraw rate from the retirement portfolio, projected retirement annual income  $4268.865397222757, which is bigger than projected year income of $6085  \n"
     ]
    }
   ],
   "source": [
    "# YOUR CODE HERE\n",
    "\n",
    "expect_ret_10th_20=initial_investment + (initial_investment * cumul_ret_20_10th)\n",
    "income_retirement_20 = expect_ret_10th_20*0.04\n",
    "print(f\"With 4% withdraw rate from the retirement portfolio, projected retirement annual income  ${income_retirement_20}, which is bigger than projected year income of $6085  \")"
   ]
  },
  {
   "cell_type": "markdown",
   "metadata": {},
   "source": [
    "### How would a 50% increase in the initial investment amount affect the 4% retirement withdrawal?"
   ]
  },
  {
   "cell_type": "code",
   "execution_count": 52,
   "metadata": {},
   "outputs": [
    {
     "name": "stdout",
     "output_type": "stream",
     "text": [
      "A 50% increase in the initial investment would generate a projected retirement annual income of $6403.298095834136. Which is bigger than the projected $4268.865397222757\n"
     ]
    }
   ],
   "source": [
    "# YOUR CODE HERE\n",
    "\n",
    "expect_ret_10th_20_50perc=initial_investment*1.5 + (initial_investment*1.5 * cumul_ret_20_10th)\n",
    "income_retirement_20_50perc = expect_ret_10th_20_50perc*0.04\n",
    "print(f\"A 50% increase in the initial investment would generate a projected retirement annual income of ${income_retirement_20_50perc}. Which is bigger than the projected ${income_retirement_20}\")\n"
   ]
  },
  {
   "cell_type": "markdown",
   "metadata": {},
   "source": [
    "### Optional Challenge\n",
    "\n",
    "In this section, you will calculate and plot the cumulative returns for the median and 90% confidence intervals. This plot shows the expected cumulative returns for any given day between the first day and the last day of investment. "
   ]
  },
  {
   "cell_type": "code",
   "execution_count": 55,
   "metadata": {},
   "outputs": [],
   "source": [
    "# YOUR CODE HERE\n",
    "\n",
    "cumul_ret_5_df = pd.Series()\n",
    "cumul_ret_50_df = pd.Series()\n",
    "cumul_ret_95_df = pd.Series()\n",
    "cumul_ret_5_l = []\n",
    "cumul_ret_50_l = []\n",
    "cumul_ret_95_l = []\n",
    "for num in range(0,7560):\n",
    "    ecu = monte_carlo.iloc[num]\n",
    "    cumul_ret_5 = ecu.quantile(q=0.05)\n",
    "    cumul_ret_50 = ecu.quantile(q=0.5)\n",
    "    cumul_ret_95 = ecu.quantile(q=0.95)\n",
    "    cumul_ret_5_l.append(cumul_ret_5)\n",
    "    cumul_ret_50_l.append(cumul_ret_50)\n",
    "    cumul_ret_95_l.append(cumul_ret_95)\n",
    "    cumul_ret_5_df=pd.DataFrame(cumul_ret_5_l,columns=['5th'])\n",
    "    cumul_ret_50_df=pd.DataFrame(cumul_ret_50_l,columns=['50th'])\n",
    "    cumul_ret_95_df=pd.DataFrame(cumul_ret_95_l,columns=['95th'])"
   ]
  },
  {
   "cell_type": "code",
   "execution_count": 56,
   "metadata": {},
   "outputs": [],
   "source": [
    "final_df = pd.concat([cumul_ret_5_df, cumul_ret_50_df,cumul_ret_95_df],sort=False)"
   ]
  },
  {
   "cell_type": "code",
   "execution_count": 57,
   "metadata": {},
   "outputs": [
    {
     "data": {
      "text/plain": [
       "<matplotlib.axes._subplots.AxesSubplot at 0x1200bc128>"
      ]
     },
     "execution_count": 57,
     "metadata": {},
     "output_type": "execute_result"
    },
    {
     "data": {
      "image/png": "[encoded data removed]",
      "text/plain": [
       "<Figure size 432x288 with 1 Axes>"
      ]
     },
     "metadata": {
      "needs_background": "light"
     },
     "output_type": "display_data"
    }
   ],
   "source": [
    "final_df.plot()"
   ]
  },
  {
   "cell_type": "code",
   "execution_count": null,
   "metadata": {},
   "outputs": [],
   "source": []
  }
 ],
 "metadata": {
  "kernel_info": {
   "name": "dev"
  },
  "kernelspec": {
   "display_name": "Python 3",
   "language": "python",
   "name": "python3"
  },
  "language_info": {
   "codemirror_mode": {
    "name": "ipython",
    "version": 3
   },
   "file_extension": ".py",
   "mimetype": "text/x-python",
   "name": "python",
   "nbconvert_exporter": "python",
   "pygments_lexer": "ipython3",
   "version": "3.7.3"
  },
  "nteract": {
   "version": "0.12.3"
  }
 },
 "nbformat": 4,
 "nbformat_minor": 4
}
